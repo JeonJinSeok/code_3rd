{
  "nbformat": 4,
  "nbformat_minor": 0,
  "metadata": {
    "colab": {
      "provenance": [],
      "authorship_tag": "ABX9TyPYmIekO+WOLQJ/w9K/Ef9n",
      "include_colab_link": true
    },
    "kernelspec": {
      "name": "python3",
      "display_name": "Python 3"
    },
    "language_info": {
      "name": "python"
    }
  },
  "cells": [
    {
      "cell_type": "markdown",
      "metadata": {
        "id": "view-in-github",
        "colab_type": "text"
      },
      "source": [
        "<a href=\"https://colab.research.google.com/github/JeonJinSeok/code_3rd/blob/main/py231019.ipynb\" target=\"_parent\"><img src=\"https://colab.research.google.com/assets/colab-badge.svg\" alt=\"Open In Colab\"/></a>"
      ]
    },
    {
      "cell_type": "markdown",
      "source": [
        "1. To-Do List를 작성하시오.\n",
        "  - 2023년 10월 19일 전진석\n",
        "    - (1) 9:20 도서관에서 책 빌리기\n",
        "    - (2) 11:10 컴퓨팅적사고와 기초코딩 수업\n",
        "    - (3) 13:00 점심식사\n",
        "    - (4) 14:10 교양수업\n",
        "    - (5) 16:00 파이썬 공부 및 레포트 작성\n",
        "    - (6) 17:40 저녁식사 및 집안일 돕기\n",
        "    - (7) 19:00 LOL하기"
      ],
      "metadata": {
        "id": "WwORx4OXvzQN"
      }
    },
    {
      "cell_type": "code",
      "source": [
        "print(\"2023년 10월 19일 전진석\")\n",
        "print(\"(1) 9:20 도서관에서 책 빌리기\")\n",
        "print(\"(2) 11:10 컴퓨팅적사고와 기초코딩 수업\")\n",
        "print(\"(3) 13:00 점심식사\")\n",
        "print(\"(4) 14:10 교양수업\")\n",
        "print(\"(5) 16:00 파이썬 공부 및 레포트 작성\")\n",
        "print(\"(6) 17:40 저녁식사 및 집안일 돕기\")\n",
        "print(\"(7) 19:00 LOL하기\")"
      ],
      "metadata": {
        "colab": {
          "base_uri": "https://localhost:8080/"
        },
        "id": "qGpisT3zxrm9",
        "outputId": "9be3008c-8687-4972-b881-f63b1ffa8095"
      },
      "execution_count": 4,
      "outputs": [
        {
          "output_type": "stream",
          "name": "stdout",
          "text": [
            "2023년 10월 19일 전진석\n",
            "(1) 9:20 도서관에서 책 빌리기\n",
            "(2) 11:10 컴퓨팅적사고와 기초코딩 수업\n",
            "(3) 13:00 점심식사\n",
            "(4) 14:10 교양수업\n",
            "(5) 16:00 파이썬 공부 및 레포트 작성\n",
            "(6) 17:40 저녁식사 및 집안일 돕기\n",
            "(7) 19:00 LOL하기\n"
          ]
        }
      ]
    },
    {
      "cell_type": "markdown",
      "source": [
        "2. 인사말 출력하기\n",
        "  - 식사하셨습니까? 행님"
      ],
      "metadata": {
        "id": "FTnzb-f8wWE7"
      }
    },
    {
      "cell_type": "code",
      "source": [
        "print(\"식사하셨습니까? 행님\")"
      ],
      "metadata": {
        "colab": {
          "base_uri": "https://localhost:8080/"
        },
        "id": "fUJ1g5VkxsAU",
        "outputId": "1bda9833-b3b0-4b72-b542-e8a8a4f32467"
      },
      "execution_count": 1,
      "outputs": [
        {
          "output_type": "stream",
          "name": "stdout",
          "text": [
            "식사하셨습니까? 행님\n"
          ]
        }
      ]
    },
    {
      "cell_type": "markdown",
      "source": [
        "3. 학생 4명의 국어점수를 입력받아서 아래와 같이 출력하시오.\n",
        "  - 박보검: 90점\n",
        "  - 션    : 92점\n",
        "  - 도룡뇽: 80점\n",
        "  - 차은우: 99점\n",
        "  - 국어 점수 순위\n",
        "  - 1등 차은우\n",
        "  - 2등 션\n",
        "  - 3등 박보검\n",
        "  - 4등 도룡뇽"
      ],
      "metadata": {
        "id": "HEB9XVOtwuSD"
      }
    },
    {
      "cell_type": "code",
      "source": [
        "n1 = int(input(\"박보검 학생의 점수를 입력하시오: \"))\n",
        "n2 = int(input(\"션 학생의 점수를 입력하시오: \"))\n",
        "n3 = int(input(\"도룡뇽 학생의 점수를 입력하시오: \"))\n",
        "n4 = int(input(\"차은우 학생의 점수를 입력하시오: \"))\n",
        "print(\"1등: 차은우\",n4)\n",
        "print(\"2등: 션\",n2)\n",
        "print(\"3등: 박보검\",n1)\n",
        "print(\"4등: 도룡뇽\",n3)\n",
        "\n"
      ],
      "metadata": {
        "colab": {
          "base_uri": "https://localhost:8080/"
        },
        "id": "ZA83-0HQxsub",
        "outputId": "399b2d80-0dce-4bec-fe6c-6f1a98f01a09"
      },
      "execution_count": 38,
      "outputs": [
        {
          "output_type": "stream",
          "name": "stdout",
          "text": [
            "박보검 학생의 점수를 입력하시오: 90\n",
            "션 학생의 점수를 입력하시오: 92\n",
            "도룡뇽 학생의 점수를 입력하시오: 80\n",
            "차은우 학생의 점수를 입력하시오: 99\n",
            "1등: 차은우 99\n",
            "2등: 션 92\n",
            "3등: 박보검 90\n",
            "4등: 도룡뇽 80\n"
          ]
        }
      ]
    },
    {
      "cell_type": "markdown",
      "source": [
        "4. 두개의 점수를 입력받아서 합계와 평균을 출력하시오."
      ],
      "metadata": {
        "id": "W9b2nDZPxd6F"
      }
    },
    {
      "cell_type": "code",
      "source": [
        "n1 = int(input(\"1번 값을 입력하시오.: \"))\n",
        "n2 = int(input(\"2번 값을 입력하시오.: \"))\n",
        "print(\"두 값의 합 =\")\n",
        "print(n1+n2)\n",
        "average = (n1+n2)/2\n",
        "print(\"두 값의 평균 =\")\n",
        "print(average)"
      ],
      "metadata": {
        "colab": {
          "base_uri": "https://localhost:8080/"
        },
        "id": "rWs022vcxtSz",
        "outputId": "d365ffd7-625e-4f94-fd3c-31e296369c75"
      },
      "execution_count": 29,
      "outputs": [
        {
          "output_type": "stream",
          "name": "stdout",
          "text": [
            "1번 값을 입력하시오.: 45\n",
            "2번 값을 입력하시오.: 12\n",
            "두 값의 합 =\n",
            "57\n",
            "두 값의 평균 =\n",
            "28.5\n"
          ]
        }
      ]
    }
  ]
}