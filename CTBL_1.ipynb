{
  "nbformat": 4,
  "nbformat_minor": 0,
  "metadata": {
    "colab": {
      "provenance": [],
      "authorship_tag": "ABX9TyMu0ldpFntI1sZUXP0QnZJi",
      "include_colab_link": true
    },
    "kernelspec": {
      "name": "python3",
      "display_name": "Python 3"
    },
    "language_info": {
      "name": "python"
    }
  },
  "cells": [
    {
      "cell_type": "markdown",
      "metadata": {
        "id": "view-in-github",
        "colab_type": "text"
      },
      "source": [
        "<a href=\"https://colab.research.google.com/github/JeonJinSeok/code_3rd/blob/main/CTBL_1.ipynb\" target=\"_parent\"><img src=\"https://colab.research.google.com/assets/colab-badge.svg\" alt=\"Open In Colab\"/></a>"
      ]
    },
    {
      "cell_type": "markdown",
      "source": [
        "1. 학생으로부터 성적을 입력받아 합격유무를 출력하는 코드작성\n",
        " - 사용변수: Grade\n",
        " - 사용수식: Grade >= 70:"
      ],
      "metadata": {
        "id": "hMEVlpsL0ovj"
      }
    },
    {
      "cell_type": "code",
      "source": [
        "Grade = int(input(\"학생의 성적을 입력하시오.: \"))\n",
        "if Grade >= 70:\n",
        "  print(\"70점 이상이므로 합격\")\n",
        "else:\n",
        "  print(\"70점 이하이므로 불합격\")"
      ],
      "metadata": {
        "colab": {
          "base_uri": "https://localhost:8080/"
        },
        "id": "pOGF-FPD1QQX",
        "outputId": "5e181680-d2ac-4352-f15e-9a9c295603e6"
      },
      "execution_count": null,
      "outputs": [
        {
          "output_type": "stream",
          "name": "stdout",
          "text": [
            "학생의 성적을 입력하시오.: 70\n",
            "70점 이상이므로 합격\n"
          ]
        }
      ]
    },
    {
      "cell_type": "markdown",
      "source": [
        "2. 쇼핑몰의 배송료를 계산하는 코드작성\n",
        " - 변수명 : price, shiping_cost\n",
        " - 수식 : price >= 20000"
      ],
      "metadata": {
        "id": "ZfDn_iDC3rvy"
      }
    },
    {
      "cell_type": "code",
      "source": [
        "price = int(input(\"고객이 계산한 총 금액을 입력하시오.: \"))\n",
        "if price >= 20000:\n",
        "  shipping_cost = 0\n",
        "  print(\"총 구매 금액이 2만원 이상이므로 배송비가 없습니다\")\n",
        "else:\n",
        "  shipping_cost = 3000\n",
        "  print(\"총 구매 금액이 2만원 미만이므로 배송비 3000원 부과\")\n",
        "print(f'고객님의 추가 결제금액(배송비)는 {shipping_cost}원입니다.')\n",
        "print(f'총 결제금액 {price + shipping_cost}원 입니다.')"
      ],
      "metadata": {
        "colab": {
          "base_uri": "https://localhost:8080/"
        },
        "id": "TgAhPidg40ij",
        "outputId": "50a02796-ef94-4d1b-e079-3bf74fa60ec4"
      },
      "execution_count": null,
      "outputs": [
        {
          "output_type": "stream",
          "name": "stdout",
          "text": [
            "고객이 계산한 총 금액을 입력하시오.: 19000\n",
            "총 구매 금액이 2만원 미만이므로 배송비 3000원 부과\n",
            "고객님의 추가 결제금액(배송비)는 3000원입니다.\n",
            "총 결제금액 22000원 입니다.\n"
          ]
        }
      ]
    },
    {
      "cell_type": "markdown",
      "source": [
        "3. 근무시간에 따라 초과근무와 정상근무를 판별하는 코드작성\n",
        " - 변수 : work_hour\n",
        " - 수식, >=, 기준시간 : 72시간"
      ],
      "metadata": {
        "id": "0KIXVM7H7GUA"
      }
    },
    {
      "cell_type": "code",
      "source": [
        "work_hour = int(input(\"본인의 근무시간을 입력하시오.: \"))\n",
        "if work_hour >= 72:\n",
        "  print(f'본인의 근무시간이 {work_hour}시간이므로 초과근무입니다.')\n",
        "else:\n",
        "  print(f'본인의 근무시간이 {work_hour}시간이므로 정상근무입니다.')\n"
      ],
      "metadata": {
        "colab": {
          "base_uri": "https://localhost:8080/"
        },
        "id": "OGZIwp2q8K6J",
        "outputId": "37c3edb9-02f3-47ad-806d-4fbae4f42dbe"
      },
      "execution_count": null,
      "outputs": [
        {
          "output_type": "stream",
          "name": "stdout",
          "text": [
            "본인의 근무시간을 입력하시오.: 76\n",
            "본인의 근무시간이 76시간이므로 초과근무입니다.\n"
          ]
        }
      ]
    },
    {
      "cell_type": "markdown",
      "source": [
        "4. 정수를 입력받아서 짝수인지 홀수인지 판별하는 코드 작성\n",
        " - 변수 : num\n",
        " - 수식 : (num %2) != 0:"
      ],
      "metadata": {
        "id": "xWegBu6--B_g"
      }
    },
    {
      "cell_type": "code",
      "source": [
        "num = int(input(\"정수를 입력하시오.: \"))\n",
        "if (num % 2) != 0:\n",
        "  print(\"홀수입니다.\")\n",
        "else:\n",
        "  print(\"짝수입니다.\")"
      ],
      "metadata": {
        "colab": {
          "base_uri": "https://localhost:8080/"
        },
        "id": "11xGwTWk-URI",
        "outputId": "a98778cf-ba2b-4f8d-ec6f-ce03df4478ba"
      },
      "execution_count": 18,
      "outputs": [
        {
          "output_type": "stream",
          "name": "stdout",
          "text": [
            "정수를 입력하시오.: 5\n",
            "홀수입니다.\n"
          ]
        }
      ]
    },
    {
      "cell_type": "markdown",
      "source": [
        "5. 상요자의 이름과 나이를 입력받고, 답변하는 코드 작성\n",
        " - 입력 : 성명 - name\n",
        " - 입력 : 나이 - age\n",
        " - 수식 : if age <= 20;\n",
        "\n",
        " 최종 출력물\n",
        " - 이름을 입력하시오.: ***\n",
        " - 나이를 입력하시오.: **\n",
        " - (1) 프로그래밍을 배우기에 최적의 나이입니다!\n",
        " - (2) 아직도 늦지 않았습니다. 도전정신!"
      ],
      "metadata": {
        "id": "8B_L6NVrAmFI"
      }
    },
    {
      "cell_type": "code",
      "source": [
        "name =  input(\"이름을 입력하시오.: \")\n",
        "age = int(input(\"나이를 입력하시오.: \"))\n",
        "if age <= 20:\n",
        "  print(f'{name}님, 프로그래밍을 배우기에 최적의 나이입니다!')\n",
        "else:\n",
        "  print(f'{name}님, 아직도 늦지 않았습니다. 도전정신!')\n"
      ],
      "metadata": {
        "colab": {
          "base_uri": "https://localhost:8080/"
        },
        "id": "ssd8NvyaA4Ns",
        "outputId": "34ca84a4-c7bd-4d70-afff-5e5b718814f2"
      },
      "execution_count": 23,
      "outputs": [
        {
          "output_type": "stream",
          "name": "stdout",
          "text": [
            "이름을 입력하시오.: 자르반\n",
            "나이를 입력하시오.: 84\n",
            "자르반님, 아직도 늦지 않았습니다. 도전정신!\n"
          ]
        }
      ]
    }
  ]
}