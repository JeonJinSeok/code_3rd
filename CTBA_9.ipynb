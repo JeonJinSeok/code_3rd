{
  "nbformat": 4,
  "nbformat_minor": 0,
  "metadata": {
    "colab": {
      "provenance": [],
      "authorship_tag": "ABX9TyPpt080R64lqI9HuO5jYyFI",
      "include_colab_link": true
    },
    "kernelspec": {
      "name": "python3",
      "display_name": "Python 3"
    },
    "language_info": {
      "name": "python"
    }
  },
  "cells": [
    {
      "cell_type": "markdown",
      "metadata": {
        "id": "view-in-github",
        "colab_type": "text"
      },
      "source": [
        "<a href=\"https://colab.research.google.com/github/JeonJinSeok/code_3rd/blob/main/CTBA_9.ipynb\" target=\"_parent\"><img src=\"https://colab.research.google.com/assets/colab-badge.svg\" alt=\"Open In Colab\"/></a>"
      ]
    },
    {
      "cell_type": "markdown",
      "source": [
        "1. 두가지 이상의 선택, 다방향 선택구조 코딩\n",
        "  - 배송료처리 3가지로 작성\n",
        "  -변수 : price 가격 10만원 이상 0원, 20만원 이상 3000원 그 외 5000원"
      ],
      "metadata": {
        "id": "sb4HCdcNRGcJ"
      }
    },
    {
      "cell_type": "code",
      "execution_count": 6,
      "metadata": {
        "colab": {
          "base_uri": "https://localhost:8080/"
        },
        "id": "1VzjPvk8RDE9",
        "outputId": "3a6f9614-5c1a-4df7-d904-55c6d7d1f8d0"
      },
      "outputs": [
        {
          "output_type": "stream",
          "name": "stdout",
          "text": [
            "배송료를 계산합니다.\n",
            "##############################\n",
            "구매금액 입력: 4000\n",
            "배송료는 5000원 입니다.\n"
          ]
        }
      ],
      "source": [
        " print(\"배송료를 계산합니다.\")\n",
        " print(\"#\" * 30)\n",
        " price = int(input(\"구매금액 입력: \"))\n",
        " if price >= 100000:\n",
        "   shipping_cost = 0\n",
        " else:\n",
        "   if price >= 200000:\n",
        "      shipping_cost = 3000\n",
        "   if price <= 200000:\n",
        "      shipping_cost = 5000\n",
        "print(f'배송료는 {shipping_cost}원 입니다.')"
      ]
    },
    {
      "cell_type": "markdown",
      "source": [
        "2. 환영합니다.5번 출력, 10번 출력 30번 출력"
      ],
      "metadata": {
        "id": "NggrkHKQTONN"
      }
    },
    {
      "cell_type": "code",
      "source": [
        "count = 1\n",
        "while count <= 5:\n",
        "  #print(\"(\", count, \")\", \"환영합니다.\")\n",
        "  print(F'({count})환영합니다.')\n",
        "  #count = count + 1\n",
        "  count += 1"
      ],
      "metadata": {
        "colab": {
          "base_uri": "https://localhost:8080/"
        },
        "id": "MMjc_hvZTR6u",
        "outputId": "f3f5c3d2-6441-486c-b85e-ae7b3c3fcb6a"
      },
      "execution_count": 16,
      "outputs": [
        {
          "output_type": "stream",
          "name": "stdout",
          "text": [
            "(1)환영합니다.\n",
            "(2)환영합니다.\n",
            "(3)환영합니다.\n",
            "(4)환영합니다.\n",
            "(5)환영합니다.\n"
          ]
        }
      ]
    },
    {
      "cell_type": "markdown",
      "source": [
        "3. 0부터 9까지 출력하는 코드 작성\n",
        "  -"
      ],
      "metadata": {
        "id": "AbfcYiMCU48U"
      }
    },
    {
      "cell_type": "code",
      "source": [
        "x = 0\n",
        "while x < 10:\n",
        "  print(x, end=' ')\n",
        "  x += 1"
      ],
      "metadata": {
        "colab": {
          "base_uri": "https://localhost:8080/"
        },
        "id": "WtgW2yn6VA-q",
        "outputId": "cdc2acbe-d3ac-4b05-9413-5b32014470e8"
      },
      "execution_count": 19,
      "outputs": [
        {
          "output_type": "stream",
          "name": "stdout",
          "text": [
            "0 1 2 3 4 5 6 7 8 9 "
          ]
        }
      ]
    },
    {
      "cell_type": "markdown",
      "source": [
        "4. 1부터 10까지 정수의 합을 계산하여 출력하는 코드"
      ],
      "metadata": {
        "id": "oQjaWrPCYYqM"
      }
    },
    {
      "cell_type": "code",
      "source": [
        "x = 1\n",
        "total = 0\n",
        "while x <= 10:\n",
        "  total = total + x\n",
        "  x += 1\n",
        "print(total)"
      ],
      "metadata": {
        "colab": {
          "base_uri": "https://localhost:8080/"
        },
        "id": "8kyK2dqDYfX-",
        "outputId": "ba632cc4-bef2-46ef-ef33-0ea74e62ef15"
      },
      "execution_count": 26,
      "outputs": [
        {
          "output_type": "stream",
          "name": "stdout",
          "text": [
            "55\n"
          ]
        }
      ]
    },
    {
      "cell_type": "code",
      "source": [
        "x = 1\n",
        "while x < 10:\n",
        "  print(x)\n",
        "  x += 1\n",
        "print(x)"
      ],
      "metadata": {
        "colab": {
          "base_uri": "https://localhost:8080/"
        },
        "id": "9MHiNAnDY7oT",
        "outputId": "11d1f4cd-6b64-4cea-91d2-d55e3035ac91"
      },
      "execution_count": 31,
      "outputs": [
        {
          "output_type": "stream",
          "name": "stdout",
          "text": [
            "1\n",
            "2\n",
            "3\n",
            "4\n",
            "5\n",
            "6\n",
            "7\n",
            "8\n",
            "9\n",
            "10\n"
          ]
        }
      ]
    },
    {
      "cell_type": "markdown",
      "source": [
        "5. 3-6-9 게임(3의 배수 판단) : 3의 배수를\n",
        "3으로 나누면 나머지가 0이 되므로(i mod 3)의 값이\n"
      ],
      "metadata": {
        "id": "_S9rvG3BVn6L"
      }
    },
    {
      "cell_type": "code",
      "source": [
        "i = 1                        # 변수 i는 0으로 선언\n",
        "while i <= 30:               # 반복문 while사용해서 i가 30보다 작거나 같을 때\n",
        "  if i % 3 == 0:             # 만약 i겂울 3으로 나눈 나머지가 0이면\n",
        "    print(\"박수\", end=' ')  # 박수를 출력하고 공백을 하나 만듦\n",
        "  else:                      # 위의 것이 아니면\n",
        "    print(i, end=' ')         # i값만 출력하고 공백 하나 만듦\n",
        "  i += 1                     # 변수 i값에 i와 1을 더해서 다시 변수 i에 선언"
      ],
      "metadata": {
        "colab": {
          "base_uri": "https://localhost:8080/"
        },
        "id": "LH1Bh-JdV-Db",
        "outputId": "fa134bcf-b129-4719-e115-f3327dcd7580"
      },
      "execution_count": 24,
      "outputs": [
        {
          "output_type": "stream",
          "name": "stdout",
          "text": [
            "1 2 박수 4 5 박수 7 8 박수 10 11 박수 13 14 박수 16 17 박수 19 20 박수 22 23 박수 25 26 박수 28 29 박수 "
          ]
        }
      ]
    },
    {
      "cell_type": "code",
      "source": [
        "for num in range(1, 11):     # 1부터 11까지의 숫자를 반복\n",
        "  if num % 3 == 0:           # 숫자(num)를 3으로 나눈 나머지가 0인 경우\n",
        "    print(\"박수\", end=' ')   # 박수를 출력하고 공백 만듦\n",
        "  else:                      # 그게 아니면\n",
        "    print(num, end=' ')      # 숫자만 출력하고 공백 만듦"
      ],
      "metadata": {
        "colab": {
          "base_uri": "https://localhost:8080/"
        },
        "id": "KaDtQ-lyZP7V",
        "outputId": "0ad1ff5b-018b-4e8c-cd45-24c3aa08613b"
      },
      "execution_count": 29,
      "outputs": [
        {
          "output_type": "stream",
          "name": "stdout",
          "text": [
            "1 2 박수 4 5 박수 7 8 박수 10 "
          ]
        }
      ]
    },
    {
      "cell_type": "markdown",
      "source": [
        "6. 팩토리얼 계산하는 코드 작성"
      ],
      "metadata": {
        "id": "3XuNWon9anYk"
      }
    },
    {
      "cell_type": "code",
      "source": [
        "i = 5\n",
        "factorial = 1\n",
        "while i <= 1:\n",
        "  factorial = factorial * i\n",
        "  i += 1\n",
        "print(factorial)"
      ],
      "metadata": {
        "colab": {
          "base_uri": "https://localhost:8080/"
        },
        "id": "UH0O7_KOarEp",
        "outputId": "39d62a53-5755-4bd6-d08f-beaeccf34ff6"
      },
      "execution_count": 58,
      "outputs": [
        {
          "output_type": "stream",
          "name": "stdout",
          "text": [
            "1\n"
          ]
        }
      ]
    },
    {
      "cell_type": "code",
      "source": [
        "num = int(input(\"팩토리얼 값 입력: \"))\n",
        "factorial = 1\n",
        "while num >= 1:\n",
        "  factorial = factorial * num\n",
        "  num -= 1\n",
        "print(\"계산된 팩토리얼 값은\", factorial,\"이다.\")"
      ],
      "metadata": {
        "colab": {
          "base_uri": "https://localhost:8080/"
        },
        "id": "aI4Z1WfhbhjS",
        "outputId": "7a69b29b-d458-4b87-97e9-59e247800690"
      },
      "execution_count": 55,
      "outputs": [
        {
          "output_type": "stream",
          "name": "stdout",
          "text": [
            "팩토리얼 값 입력: 2\n",
            "계산된 팩토리얼 값은 2 이다.\n"
          ]
        }
      ]
    }
  ]
}