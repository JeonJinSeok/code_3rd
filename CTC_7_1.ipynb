{
  "nbformat": 4,
  "nbformat_minor": 0,
  "metadata": {
    "colab": {
      "provenance": [],
      "authorship_tag": "ABX9TyONhO3GeqL1C4PmGs0aGb5F",
      "include_colab_link": true
    },
    "kernelspec": {
      "name": "python3",
      "display_name": "Python 3"
    },
    "language_info": {
      "name": "python"
    }
  },
  "cells": [
    {
      "cell_type": "markdown",
      "metadata": {
        "id": "view-in-github",
        "colab_type": "text"
      },
      "source": [
        "<a href=\"https://colab.research.google.com/github/JeonJinSeok/code_3rd/blob/main/CTC_7_1.ipynb\" target=\"_parent\"><img src=\"https://colab.research.google.com/assets/colab-badge.svg\" alt=\"Open In Colab\"/></a>"
      ]
    },
    {
      "cell_type": "code",
      "execution_count": null,
      "metadata": {
        "id": "FTSBkfEXE3zX"
      },
      "outputs": [],
      "source": []
    },
    {
      "cell_type": "markdown",
      "source": [
        "1. 사용자로부터 3개의 값(x,y,z)를 입력받아서 각각 1씩 증가되고, 출력되는 코드작성"
      ],
      "metadata": {
        "id": "eulZQjWqG4pE"
      }
    },
    {
      "cell_type": "code",
      "source": [
        "x = int(input(\"x의 값을 입력하시오.: \"))\n",
        "y = int(input(\"y의 값을 입력하시오.: \"))\n",
        "z = int(input(\"z의 값을 입력하시오.: \"))\n",
        "x = x + 1\n",
        "y = y + 1\n",
        "z = z + 1\n",
        "print(f'x의 값은{x}이며, y의 값은{y}이며,z의 값은{z}이다.')"
      ],
      "metadata": {
        "colab": {
          "base_uri": "https://localhost:8080/"
        },
        "id": "zgF_gYrLHSwU",
        "outputId": "d7bb7297-f0b8-4a8d-f214-0afe9618681d"
      },
      "execution_count": 2,
      "outputs": [
        {
          "output_type": "stream",
          "name": "stdout",
          "text": [
            "x의 값을 입력하시오.: 1\n",
            "y의 값을 입력하시오.: 2\n",
            "z의 값을 입력하시오.: 3\n",
            "x의 값은2이며, y의 값은3이며,z의 값은4이다.\n"
          ]
        }
      ]
    },
    {
      "cell_type": "markdown",
      "source": [
        "2. 알바생의 시급과 시간을 계산하여 월급을 출력하는 코드"
      ],
      "metadata": {
        "id": "AI2qX4qbJJRs"
      }
    },
    {
      "cell_type": "code",
      "source": [],
      "metadata": {
        "id": "d3FgEBJ_Jcw0"
      },
      "execution_count": null,
      "outputs": []
    },
    {
      "cell_type": "code",
      "source": [
        "hours_worked = int(input(\"일한 시간을 입력하시오.: \"))\n",
        "pay_rate = int(input(\"시급을 입력하시오(현행법 최저시급 9,620\\).: \"))\n",
        "monthly_pay = hours_worked * pay_rate\n",
        "print(f'일한시간은 {hours_worked}이고, 시급은 {pay_rate}\\ 이며, 월 급여는 {monthly_pay}\\ 입니다.')\n",
        "\n"
      ],
      "metadata": {
        "colab": {
          "base_uri": "https://localhost:8080/"
        },
        "id": "gBdD7m0TKIu7",
        "outputId": "9bfccfeb-89b2-4794-8820-14801603df73"
      },
      "execution_count": 5,
      "outputs": [
        {
          "output_type": "stream",
          "name": "stdout",
          "text": [
            "일한 시간을 입력하시오.: 10\n",
            "시급을 입력하시오(현행법 최저시급 9,620\\).: 9620\n",
            "일한시간은 10이고, 시급은 9620\\ 이며, 월 급여는 96200\\ 입니다.\n"
          ]
        }
      ]
    },
    {
      "cell_type": "markdown",
      "source": [
        "3. 환율계산하는 코드 작성\n",
        " - 원의 변수는 WON\n",
        " - 달러의 변수는 USD\n",
        " - 환전의 변수는 exchange"
      ],
      "metadata": {
        "id": "QFHlcQ_LLk9-"
      }
    },
    {
      "cell_type": "code",
      "source": [
        "WON = int(input(\"환전할 금액을 입력(kor).: \"))\n",
        "USD = int(input(\"현재 달러의 환율을 입력하시오(현행 기준: 1,372\\).: \"))\n",
        "exchange = WON * USD\n",
        "print(f'환전할 금액은 {WON}이며, 달러 금액은 {USD}이고, 환전금액은 {exchange}입니다.')"
      ],
      "metadata": {
        "colab": {
          "base_uri": "https://localhost:8080/"
        },
        "id": "Slekig-RL8tn",
        "outputId": "c3ddebb4-bdbe-49dc-8629-c78aa72956e4"
      },
      "execution_count": 17,
      "outputs": [
        {
          "output_type": "stream",
          "name": "stdout",
          "text": [
            "환전할 금액을 입력(kor).: 5000\n",
            "현재 달러의 환율을 입력하시오(현행 기준: 1,372\\).: 1372\n",
            "환전할 금액은 5000이며, 달러 금액은 1372이고, 환전금액은 6860000입니다.\n"
          ]
        }
      ]
    },
    {
      "cell_type": "markdown",
      "source": [
        "4. 화씨(fahrenheit)를 섭씨(celcius)로 변환하는 코드 작성"
      ],
      "metadata": {
        "id": "whTCUZraN7t0"
      }
    },
    {
      "cell_type": "code",
      "source": [
        "fahrenheit = int(input(\"화씨온도를 입력하시오.: \"))\n",
        "celcius = (fahrenheit - 32) / 1.8\n",
        "print(f'화씨온도 {fahrenheit}도는, 섭씨 {celcius}도 입니다.')"
      ],
      "metadata": {
        "colab": {
          "base_uri": "https://localhost:8080/"
        },
        "id": "HnJtAP_cOT3d",
        "outputId": "d8a6e809-8245-459f-a48a-9fdfe0a72235"
      },
      "execution_count": 16,
      "outputs": [
        {
          "output_type": "stream",
          "name": "stdout",
          "text": [
            "화씨온도를 입력하시오.: 100\n",
            "화씨온도 100도는, 섭씨 37.77777777777778도 입니다.\n"
          ]
        }
      ]
    },
    {
      "cell_type": "code",
      "source": [
        "celcius = int(input(\"섭씨온도를 입력하시오.: \"))\n",
        "fahrenheit = celcius * 1.8 + 32\n",
        "print(f'섭씨온도는 {celcius}도는, 화씨 {fahrenheit}입니다.')"
      ],
      "metadata": {
        "colab": {
          "base_uri": "https://localhost:8080/"
        },
        "id": "5Jkq0ugjPr3Z",
        "outputId": "0b3bfc1e-aa13-4cda-e300-b47d07e3cf18"
      },
      "execution_count": 15,
      "outputs": [
        {
          "output_type": "stream",
          "name": "stdout",
          "text": [
            "섭씨온도를 입력하시오.: 37\n",
            "섭씨온도는 37도는, 화씨 98.60000000000001입니다.\n"
          ]
        }
      ]
    }
  ]
}