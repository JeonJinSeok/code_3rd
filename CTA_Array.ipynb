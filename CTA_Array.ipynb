{
  "nbformat": 4,
  "nbformat_minor": 0,
  "metadata": {
    "colab": {
      "provenance": [],
      "authorship_tag": "ABX9TyNz8wR6tzCAb9e/O4ruJtTK",
      "include_colab_link": true
    },
    "kernelspec": {
      "name": "python3",
      "display_name": "Python 3"
    },
    "language_info": {
      "name": "python"
    }
  },
  "cells": [
    {
      "cell_type": "markdown",
      "metadata": {
        "id": "view-in-github",
        "colab_type": "text"
      },
      "source": [
        "<a href=\"https://colab.research.google.com/github/JeonJinSeok/code_3rd/blob/main/CTA_Array.ipynb\" target=\"_parent\"><img src=\"https://colab.research.google.com/assets/colab-badge.svg\" alt=\"Open In Colab\"/></a>"
      ]
    },
    {
      "cell_type": "markdown",
      "source": [
        "1. 배열이 선언\n",
        "  - 일반 변수의 선언 : 변수명 = 변수의 값\n",
        "  - 배열의 변수 선언 : 변수명 = [ , , ]"
      ],
      "metadata": {
        "id": "cAyDW25eMnzy"
      }
    },
    {
      "cell_type": "code",
      "source": [
        "movie_list = [\"아바타\", \"타이타닉\", \"스타워즈\", \"쥬라기공원\", \"어벤져스\"]\n",
        "print(movie_list[0])\n",
        "print(movie_list[4])"
      ],
      "metadata": {
        "colab": {
          "base_uri": "https://localhost:8080/"
        },
        "id": "-B1Ff5zkNUXq",
        "outputId": "7e3dc7e5-9d2b-4cc2-a42d-f30d14ac05df"
      },
      "execution_count": 5,
      "outputs": [
        {
          "output_type": "stream",
          "name": "stdout",
          "text": [
            "아바타\n",
            "어벤져스\n"
          ]
        }
      ]
    },
    {
      "cell_type": "markdown",
      "source": [
        "2. 요일을 배열로 선언하라\n",
        " - 변수명 : day_list\n",
        "  * 요일 : 월(Mon.), 화(Tue.), 수(Wed.), 목(Thur.), 금(Fir.), 토(Sat.), 일(Sun.)\n"
      ],
      "metadata": {
        "id": "_bwXZOP_OZda"
      }
    },
    {
      "cell_type": "code",
      "source": [
        "day_list = [\"Mon.\", \"Tues.\", \"Wed.\", \"Thur.\", \"Fir.\", \"Sat.\", \"Sun.\"]\n",
        "print(day_list[0])\n",
        "print(day_list[1])\n",
        "print(day_list[2])\n",
        "print(day_list[3])\n",
        "print(day_list[4])\n",
        "print(day_list[5])\n",
        "print(day_list[6])"
      ],
      "metadata": {
        "colab": {
          "base_uri": "https://localhost:8080/"
        },
        "id": "Ue222ShBOiyA",
        "outputId": "0fffab9b-6c83-451c-d40d-1e41c293fe6e"
      },
      "execution_count": 9,
      "outputs": [
        {
          "output_type": "stream",
          "name": "stdout",
          "text": [
            "Mon.\n",
            "Tues.\n",
            "Wed.\n",
            "Thur.\n",
            "Fir.\n",
            "Sat.\n",
            "Sun.\n"
          ]
        }
      ]
    }
  ]
}